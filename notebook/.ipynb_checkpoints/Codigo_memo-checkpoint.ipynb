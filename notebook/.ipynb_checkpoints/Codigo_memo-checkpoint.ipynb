{
 "cells": [
  {
   "cell_type": "code",
   "execution_count": null,
   "id": "963dd4d7",
   "metadata": {},
   "outputs": [],
   "source": [
    "import pandas as pd\n",
    "import matplotlib.pyplot as plt\n",
    "from iertools.read import read_sql\n",
    "from dateutil.parser import parse"
   ]
  },
  {
   "cell_type": "code",
   "execution_count": null,
   "id": "e57d786c",
   "metadata": {},
   "outputs": [],
   "source": [
    "f = 'dfdf'\n",
    "tmp = read_sql(f,read='all')\n",
    "nombres = tmp.rename_from_sql()\n",
    "tmp.rename(columns=nombres)\n",
    "cb = tmp.data\n",
    "\n",
    "f = 'ffdgds'\n",
    "tmp = read_sql(f,read='all')\n",
    "nombres = tmp.rename_from_sql()\n",
    "tmp.rename(columns=nombres)\n",
    "ven = tmp.data"
   ]
  },
  {
   "cell_type": "code",
   "execution_count": null,
   "id": "fe782914",
   "metadata": {},
   "outputs": [],
   "source": [
    "cb['Ti']  = ( cb.Ti_COMEDOR*80 +  cb.Ti_SALA*45)/125\n",
    "ven['Ti'] = (ven.Ti_COMEDOR*80 + ven.Ti_SALA*45)/125"
   ]
  },
  {
   "cell_type": "code",
   "execution_count": null,
   "id": "cdad3341",
   "metadata": {},
   "outputs": [],
   "source": [
    "f1 = parse('2006-01-01')\n",
    "f2 = f1 + pd.Timedelta('365D')\n",
    "fig, ax = plt.subplots(figsize=(12,3))\n",
    "\n",
    "ax.plot(cb.Ti ,label='cb')\n",
    "ax.plot(ven.Ti,label='ven')\n",
    "\n",
    "ax.set_xlim(f1,f2)\n",
    "ax.legend()"
   ]
  },
  {
   "cell_type": "code",
   "execution_count": null,
   "id": "58654ae7",
   "metadata": {},
   "outputs": [],
   "source": [
    "cb_Timax_mes  =  cb.Ti.resample('D').max().resample('M').mean()\n",
    "ven_Timax_mes = ven.Ti.resample('D').max().resample('M').mean()"
   ]
  },
  {
   "cell_type": "code",
   "execution_count": null,
   "id": "f2db9713",
   "metadata": {},
   "outputs": [],
   "source": [
    "f1 = parse('2006-01-01')\n",
    "f2 = f1 + pd.timedelta('365D')\n",
    "fig, ax = plt.subplots(figsize=(12,3))\n",
    "\n",
    "ax.plot(cb_Timax_mes,'ro',label='CB')\n",
    "ax.plot(ven_Timax_mes,'bo',label='Ven')\n",
    "\n",
    "ax.set_xlim(f1,f2)\n",
    "ax.legend()"
   ]
  },
  {
   "cell_type": "code",
   "execution_count": null,
   "id": "c7735bab",
   "metadata": {},
   "outputs": [],
   "source": [
    "def FD(cb):\n",
    "    FD = ((cb.Ti.resample('D').max()-cb.Ti.resample('D').min())/(cb.To.resample('D')))\n",
    "    return FD"
   ]
  },
  {
   "cell_type": "code",
   "execution_count": null,
   "id": "da3d97f2",
   "metadata": {},
   "outputs": [],
   "source": [
    "cb_fd  = FD(cb)\n",
    "ven_fd = FD(ven)"
   ]
  },
  {
   "cell_type": "code",
   "execution_count": null,
   "id": "9758f442",
   "metadata": {},
   "outputs": [],
   "source": [
    "f1 = parse('2006-01-01')\n",
    "f2 = f1 + pd.Timedelta('365D')\n",
    "fig, ax = plt.subplots(figsize=(12,3))\n",
    "\n",
    "ax.plot(cb_fd.'ro',label='CB')\n",
    "ax.plot(ven_fd,'bo',label='ven')\n",
    "\n",
    "ax.set_xlim(f1,f2)\n",
    "ax.legend()"
   ]
  },
  {
   "cell_type": "code",
   "execution_count": null,
   "id": "07d0c5df",
   "metadata": {},
   "outputs": [],
   "source": [
    "cb.To.resample('M').mean()"
   ]
  },
  {
   "cell_type": "code",
   "execution_count": null,
   "id": "23fa99e6",
   "metadata": {},
   "outputs": [],
   "source": [
    "Tn = 13.5 + 0.54*cb.To.resample('M').mean()[0]\n",
    "DeltaTn = 1.5\n",
    "Tn"
   ]
  },
  {
   "cell_type": "code",
   "execution_count": null,
   "id": "c37200f8",
   "metadata": {},
   "outputs": [],
   "source": [
    "cb['Tn-DTn'] = Tn - DeltaTn"
   ]
  },
  {
   "cell_type": "code",
   "execution_count": null,
   "id": "dbf977d8",
   "metadata": {},
   "outputs": [],
   "source": [
    "cb.info()"
   ]
  },
  {
   "cell_type": "code",
   "execution_count": null,
   "id": "1281cddb",
   "metadata": {},
   "outputs": [],
   "source": [
    "Ti_df = cb.Ti.loc[cb.Ti<cb['Tn-DTn']]"
   ]
  },
  {
   "cell_type": "code",
   "execution_count": null,
   "id": "b28b32b5",
   "metadata": {},
   "outputs": [],
   "source": [
    "f1 = parse('2006-01-01')\n",
    "f2 = f1 + pd.Timedelta('365D')\n",
    "fig, ax = plt.subplots(figsize=(12,3))\n",
    "\n",
    "ax,plot(cb.Ti,label='CB')\n",
    "ax.plot(Ti_df,'r',label='Ti_df')\n",
    "\n",
    "ax.set_xlim(f1,f2)\n",
    "ax.legend()"
   ]
  },
  {
   "cell_type": "code",
   "execution_count": null,
   "id": "92a474b3",
   "metadata": {},
   "outputs": [],
   "source": [
    "# Enero, Febrero, Diciembre\n",
    "\n",
    "cb_ene = cb.loc['2006-01'].copy()\n",
    "cb_feb = cb.loc['2006-02'].copy()\n",
    "cb_dic = cb.loc['2006-12'].copy()\n",
    "\n",
    "cb_ene['Tn-DTn'] = cb_ene.To.mean()*0.54 + 13.5 - 1.5\n",
    "cb_feb['Tn-DTn'] = cb_feb.To.mean()*0.54 + 13.5 - 1.5\n",
    "cb_dic['Tn-DTn'] = cb_dic.To.mean()*0.54 + 13.5 - 1.5"
   ]
  },
  {
   "cell_type": "markdown",
   "id": "be8ebcfe",
   "metadata": {},
   "source": [
    "Tn = 13.5°C + 0.54Tm"
   ]
  },
  {
   "cell_type": "code",
   "execution_count": null,
   "id": "ed8e8c98",
   "metadata": {},
   "outputs": [],
   "source": [
    "# f1 = parse('2006-01-01')\n",
    "# f2 = f1 + pd.timedelta('365D')\n",
    "fig, ax = plt.subplots(figsize=(12,3))\n",
    "\n",
    "ax.plot(cb_ene['Tn-DTn'])\n",
    "ax.plot(cb_feb['Tn-DTn'])\n",
    "ax.plot(cb_dic['Tn-DTn'])\n",
    "# ax.plot(ven,Ti)\n",
    "\n",
    "#ax.set_xlim(f1,f2)\n",
    "ax.legend()"
   ]
  },
  {
   "cell_type": "code",
   "execution_count": null,
   "id": "d9499ad9",
   "metadata": {},
   "outputs": [],
   "source": [
    "cb_ene['GHDF'] = cb_ene['Tn-DTn'] - cb_ene['Ti']\n",
    "cb_feb['GHDF'] = cb_feb['Tn-DTn'] - cb_feb['Ti']\n",
    "cb_dic['GHDF'] = cb_dic['Tn-DTn'] - cb_dic['Ti']"
   ]
  },
  {
   "cell_type": "code",
   "execution_count": null,
   "id": "9808a505",
   "metadata": {},
   "outputs": [],
   "source": [
    "cb_frio = pd.concat([cb_ene,cb_feb,cb_dic])\n",
    "cb_frio['GHDF'] = (cb_frio['Tn-DTn'] - cb_frio['Ti'])*1/6\n",
    "cb_frio['GHDF'].sum()"
   ]
  },
  {
   "cell_type": "code",
   "execution_count": null,
   "id": "628ec76b",
   "metadata": {},
   "outputs": [],
   "source": [
    "meses = ['2006-01','2006-02','2006-12']\n",
    "\n",
    "def calcula_ghdf(cb,meses):\n",
    "    #paso1\n",
    "    cb_m1 = cb.loc[meses[0]].copy()\n",
    "    cb_m2 = cb.loc[meses[1]].copy()\n",
    "    cb_m3 = cb.loc[meses[2]].copy()\n",
    "\n",
    "    cb_m1['Tn-DTn'] = cb_m1.To.mean()*0.54 + 13.5 - 1.5\n",
    "    cb_m2['Tn-DTn'] = cb_m2.To.mean()*0.54 + 13.5 - 1.5\n",
    "    cb_m3['Tn-DTn'] = cb_m3.To.mean()*0.54 + 13.5 - 1.5\n",
    "\n",
    "    # paso2, calcula GHDF\n",
    "    cb_m1['GHDF'] = cb_m1['Tn-DTn'] - cb_m1['Ti']\n",
    "    cb_m2['GHDF'] = cb_m2['Tn-DTn'] - cb_m2['Ti']\n",
    "    cb_m3['GHDF'] = cb_m3['Tn-DTn'] - cb_m3['Ti']\n",
    "\n",
    "    # paso 3, unir meses\n",
    "    cb_meses = pd.concat([cb_m1,cb_m2,cb_m3])\n",
    "\n",
    "    # paso 4, calcula GHDF\n",
    "    cb_meses['GHDF'] = (cb_meses['Tn-DTn'] - cb_meses['Ti'])*1/6\n",
    "    return cb_meses['GHDF'].sum()"
   ]
  },
  {
   "cell_type": "code",
   "execution_count": null,
   "id": "aeb21186",
   "metadata": {},
   "outputs": [],
   "source": [
    "calcula_ghdf(cb,meses)"
   ]
  }
 ],
 "metadata": {
  "kernelspec": {
   "display_name": "Python 3 (ipykernel)",
   "language": "python",
   "name": "python3"
  },
  "language_info": {
   "codemirror_mode": {
    "name": "ipython",
    "version": 3
   },
   "file_extension": ".py",
   "mimetype": "text/x-python",
   "name": "python",
   "nbconvert_exporter": "python",
   "pygments_lexer": "ipython3",
   "version": "3.11.2"
  }
 },
 "nbformat": 4,
 "nbformat_minor": 5
}
